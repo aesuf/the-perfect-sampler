{
 "cells": [
  {
   "cell_type": "markdown",
   "id": "3c3347b2",
   "metadata": {},
   "source": [
    "# RNN Training #\n",
    "## Jackson Cornell ##"
   ]
  },
  {
   "cell_type": "code",
   "execution_count": null,
   "id": "3e38388c",
   "metadata": {},
   "outputs": [],
   "source": []
  },
  {
   "cell_type": "markdown",
   "id": "e0f740f3",
   "metadata": {},
   "source": [
    "### Load data ###"
   ]
  },
  {
   "cell_type": "code",
   "execution_count": null,
   "id": "b15c39b3",
   "metadata": {},
   "outputs": [],
   "source": []
  },
  {
   "cell_type": "markdown",
   "id": "a9362b85",
   "metadata": {},
   "source": [
    "### Train model ###"
   ]
  },
  {
   "cell_type": "code",
   "execution_count": null,
   "id": "0b8d5f98",
   "metadata": {},
   "outputs": [],
   "source": []
  },
  {
   "cell_type": "markdown",
   "id": "3f945956",
   "metadata": {},
   "source": [
    "### Validate model ###"
   ]
  },
  {
   "cell_type": "code",
   "execution_count": null,
   "id": "e45223b2",
   "metadata": {},
   "outputs": [],
   "source": []
  },
  {
   "cell_type": "markdown",
   "id": "9df9dad4",
   "metadata": {},
   "source": [
    "### Save model ###"
   ]
  },
  {
   "cell_type": "code",
   "execution_count": null,
   "id": "04fb279a",
   "metadata": {},
   "outputs": [],
   "source": []
  }
 ],
 "metadata": {
  "kernelspec": {
   "display_name": "Python 3",
   "language": "python",
   "name": "python3"
  },
  "language_info": {
   "codemirror_mode": {
    "name": "ipython",
    "version": 3
   },
   "file_extension": ".py",
   "mimetype": "text/x-python",
   "name": "python",
   "nbconvert_exporter": "python",
   "pygments_lexer": "ipython3",
   "version": "3.8.8"
  }
 },
 "nbformat": 4,
 "nbformat_minor": 5
}
