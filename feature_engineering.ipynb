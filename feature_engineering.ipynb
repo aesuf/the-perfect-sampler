{
  "nbformat": 4,
  "nbformat_minor": 0,
  "metadata": {
    "colab": {
      "name": "feature_engineering.ipynb",
      "provenance": []
    },
    "kernelspec": {
      "name": "python3",
      "display_name": "Python 3"
    },
    "language_info": {
      "name": "python"
    }
  },
  "cells": [
    {
      "cell_type": "code",
      "execution_count": 55,
      "metadata": {
        "id": "WnPOFrEtdWMv"
      },
      "outputs": [],
      "source": [
        "import librosa\n",
        "import os\n",
        "import numpy as np\n",
        "import matplotlib.pyplot as plt\n",
        "import librosa.display\n"
      ]
    },
    {
      "cell_type": "code",
      "source": [
        "!git clone https://github.com/aesuf/orchestral_samples"
      ],
      "metadata": {
        "colab": {
          "base_uri": "https://localhost:8080/"
        },
        "id": "zoUmsqwJeKP_",
        "outputId": "197f1936-2723-4d5a-c9c3-74ce3df15482"
      },
      "execution_count": 2,
      "outputs": [
        {
          "output_type": "stream",
          "name": "stdout",
          "text": [
            "Cloning into 'orchestral_samples'...\n",
            "remote: Enumerating objects: 11550, done.\u001b[K\n",
            "remote: Total 11550 (delta 0), reused 0 (delta 0), pack-reused 11550\u001b[K\n",
            "Receiving objects: 100% (11550/11550), 1.28 GiB | 28.50 MiB/s, done.\n",
            "Resolving deltas: 100% (5/5), done.\n",
            "Checking out files: 100% (11593/11593), done.\n"
          ]
        }
      ]
    },
    {
      "cell_type": "markdown",
      "source": [
        "We take the first n seconds of the audio. If the audio is too short, we append zeros."
      ],
      "metadata": {
        "id": "UNF23AA7kOgQ"
      }
    },
    {
      "cell_type": "code",
      "source": [
        "def trim_sample(y,sr,seconds):\n",
        "  librosa.util.fix_length(y,size=np.round(sr*seconds))"
      ],
      "metadata": {
        "id": "SbDyAj8ceTOB"
      },
      "execution_count": 3,
      "outputs": []
    },
    {
      "cell_type": "code",
      "source": [
        "filename = 'orchestral_samples/data/mandolin/mandolin_B3_very-long_piano_tremolo.wav'\n",
        "y, sr = librosa.load(filename)"
      ],
      "metadata": {
        "id": "32A3ZqcHfD6y"
      },
      "execution_count": 65,
      "outputs": []
    },
    {
      "cell_type": "code",
      "source": [
        "hop_length = 512\n",
        "n_fft = 255\n",
        "n_mfcc=10\n",
        "MFCCs = librosa.feature.mfcc(y, n_fft=n_fft,hop_length=hop_length,n_mfcc=n_mfcc);"
      ],
      "metadata": {
        "colab": {
          "base_uri": "https://localhost:8080/"
        },
        "id": "1guR-7kDlQuZ",
        "outputId": "e96414f9-960a-44bf-ec35-01b19935c68c"
      },
      "execution_count": 66,
      "outputs": [
        {
          "output_type": "stream",
          "name": "stderr",
          "text": [
            "/usr/local/lib/python3.7/dist-packages/librosa/filters.py:239: UserWarning: Empty filters detected in mel frequency basis. Some channels will produce empty responses. Try increasing your sampling rate (and fmax) or reducing n_mels.\n",
            "  \"Empty filters detected in mel frequency basis. \"\n"
          ]
        }
      ]
    },
    {
      "cell_type": "code",
      "source": [
        "X=MFCCs\n",
        "X = np.array((X-np.min(X))/(np.max(X)-np.min(X)))\n",
        "X = X/np.std(X)\n",
        "y = np.array(y)"
      ],
      "metadata": {
        "id": "DVaCj-4vlp4F"
      },
      "execution_count": 69,
      "outputs": []
    },
    {
      "cell_type": "code",
      "source": [
        "X"
      ],
      "metadata": {
        "colab": {
          "base_uri": "https://localhost:8080/"
        },
        "id": "Or4FbDRDnD8Y",
        "outputId": "6f67c878-972e-4b78-92e5-520f52a071cf"
      },
      "execution_count": 77,
      "outputs": [
        {
          "output_type": "execute_result",
          "data": {
            "text/plain": [
              "array([[0.       , 0.       , 0.       , ..., 0.       , 0.       ,\n",
              "        0.       ],\n",
              "       [4.0073113, 4.0073113, 4.0073113, ..., 4.0073113, 4.0073113,\n",
              "        4.0073113],\n",
              "       [4.0073113, 4.0073113, 4.0073113, ..., 4.0073113, 4.0073113,\n",
              "        4.0073113],\n",
              "       ...,\n",
              "       [4.0073113, 4.0073113, 4.0073113, ..., 4.0073113, 4.0073113,\n",
              "        4.0073113],\n",
              "       [4.0073113, 4.0073113, 4.0073113, ..., 4.0073113, 4.0073113,\n",
              "        4.0073113],\n",
              "       [4.0073113, 4.0073113, 4.0073113, ..., 4.0073113, 4.0073113,\n",
              "        4.0073113]], dtype=float32)"
            ]
          },
          "metadata": {},
          "execution_count": 77
        }
      ]
    },
    {
      "cell_type": "markdown",
      "source": [
        ""
      ],
      "metadata": {
        "id": "aK-8maWRdhWg"
      }
    }
  ]
}