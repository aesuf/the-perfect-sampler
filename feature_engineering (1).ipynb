{
  "nbformat": 4,
  "nbformat_minor": 0,
  "metadata": {
    "colab": {
      "name": "feature_engineering.ipynb",
      "provenance": []
    },
    "kernelspec": {
      "name": "python3",
      "display_name": "Python 3"
    },
    "language_info": {
      "name": "python"
    }
  },
  "cells": [
    {
      "cell_type": "markdown",
      "source": [
        "###### *UF Audio Engineering Society*\n",
        "Jackson Cornell, Justin Broce,  Eric Barkuloo\n",
        "\n",
        "\n",
        "# **Feature Engineering**\n",
        "\n",
        "\n",
        "###Loading libraries"
      ],
      "metadata": {
        "id": "YJOZf-CtoISE"
      }
    },
    {
      "cell_type": "code",
      "source": [
        "import librosa\n",
        "import os\n",
        "import numpy as np\n",
        "import matplotlib.pyplot as plt\n",
        "import librosa.display"
      ],
      "metadata": {
        "id": "txpAodUzoLH1"
      },
      "execution_count": 1,
      "outputs": []
    },
    {
      "cell_type": "markdown",
      "source": [
        "###Loading data"
      ],
      "metadata": {
        "id": "NeqsPi3Oolb7"
      }
    },
    {
      "cell_type": "code",
      "source": [
        "!git clone https://github.com/aesuf/orchestral_samples"
      ],
      "metadata": {
        "colab": {
          "base_uri": "https://localhost:8080/"
        },
        "id": "zoUmsqwJeKP_",
        "outputId": "7504d28c-5cdb-492e-c54c-e0bc961437cc"
      },
      "execution_count": 2,
      "outputs": [
        {
          "output_type": "stream",
          "name": "stdout",
          "text": [
            "Cloning into 'orchestral_samples'...\n",
            "remote: Enumerating objects: 11629, done.\u001b[K\n",
            "remote: Counting objects: 100% (40/40), done.\u001b[K\n",
            "remote: Compressing objects: 100% (37/37), done.\u001b[K\n",
            "remote: Total 11629 (delta 8), reused 22 (delta 2), pack-reused 11589\u001b[K\n",
            "Receiving objects: 100% (11629/11629), 1.28 GiB | 27.96 MiB/s, done.\n",
            "Resolving deltas: 100% (32/32), done.\n",
            "Checking out files: 100% (11319/11319), done.\n"
          ]
        }
      ]
    },
    {
      "cell_type": "markdown",
      "source": [
        "##Feature Extraction\n"
      ],
      "metadata": {
        "id": "UNF23AA7kOgQ"
      }
    },
    {
      "cell_type": "code",
      "source": [
        "#@title helper functions\n",
        "\n",
        "#We take the first n seconds of the audio. If the audio is too short, we append zeros.\n",
        "\n",
        "def trim_sample(y,sr,seconds):\n",
        "  return librosa.util.fix_length(y,size=int((sr*seconds)))\n",
        "\n",
        "\n",
        "def get_filenames():\n",
        "  #files is a list of the names of all of our downloaded files\n",
        "  files = os.listdir('orchestral_samples/data')\n",
        "  \"\"\"\n",
        "  files[0] might look like 'bass-clarinet_Fs3_15_pianissimo_normal.wav'\n",
        "  so we append 'orchestral_samples/data' to the start of every file\n",
        "  so we can load it easier\n",
        "  \"\"\"\n",
        "  return list(\n",
        "      map(\n",
        "      lambda file: 'orchestral_samples/data/' + file , files)\n",
        "  )"
      ],
      "metadata": {
        "id": "SbDyAj8ceTOB",
        "cellView": "form"
      },
      "execution_count": 3,
      "outputs": []
    },
    {
      "cell_type": "markdown",
      "source": [
        "##loading the names of all of our files from our downloaded data"
      ],
      "metadata": {
        "id": "XUNbDQO7pb5U"
      }
    },
    {
      "cell_type": "code",
      "source": [
        "files = get_filenames()\n",
        "print('number of samples: ', len(files))\n",
        "print('example file name: ', files[3000])"
      ],
      "metadata": {
        "id": "4jPbnzfM3-Fg",
        "outputId": "2c9e2a59-618e-4aca-b938-75d5d3231f4a",
        "colab": {
          "base_uri": "https://localhost:8080/"
        }
      },
      "execution_count": 4,
      "outputs": [
        {
          "output_type": "stream",
          "name": "stdout",
          "text": [
            "number of samples:  11318\n",
            "example file name:  orchestral_samples/data/tuba_Gs2_05_mezzo-piano_mute.wav\n"
          ]
        }
      ]
    },
    {
      "cell_type": "markdown",
      "source": [
        "Function to extract mel melspectrogram from a sample"
      ],
      "metadata": {
        "id": "Y6bFca0syvYv"
      }
    },
    {
      "cell_type": "code",
      "source": [
        "def extract_mel(y,sr):\n",
        "  y = trim_sample(y,sr,1.5) #we are looking at the first 15 seconds of each sample\n",
        "  hop_length = 512\n",
        "  n_fft = 255\n",
        "  n_mfcc=128\n",
        "  return librosa.feature.melspectrogram(y, n_fft=n_fft,hop_length=hop_length);"
      ],
      "metadata": {
        "id": "XGGsUOgtsTt6"
      },
      "execution_count": 5,
      "outputs": []
    },
    {
      "cell_type": "markdown",
      "source": [
        "Function to plot melspectrogram"
      ],
      "metadata": {
        "id": "lvi7Dv2xy2kk"
      }
    },
    {
      "cell_type": "code",
      "source": [
        "def plot_mel(melspec,sr=22050,hop_length=512):\n",
        "  fig, ax = plt.subplots(figsize=(20,7))\n",
        "  librosa.display.specshow(melspec,sr=sr, cmap='cool',hop_length=hop_length)\n",
        "  ax.set_xlabel('Time', fontsize=15)\n",
        "  ax.set_title('MelSpectrogram', size=20)\n",
        "  plt.colorbar()\n",
        "  plt.show()\n",
        "\n",
        "\n",
        "\n"
      ],
      "metadata": {
        "id": "Or4FbDRDnD8Y"
      },
      "execution_count": 6,
      "outputs": []
    },
    {
      "cell_type": "markdown",
      "source": [
        "Creating a feature array of the right dimension, at with entry populated with zeroes"
      ],
      "metadata": {
        "id": "SqtlshLBzYlN"
      }
    },
    {
      "cell_type": "code",
      "source": [
        "mel_dims = extract_mel(*librosa.load(files[1])).shape;\n",
        "features = np.zeros((len(files),mel_dims[0],mel_dims[1]))\n",
        "print('\\ndimensions of our features array:', features.shape)"
      ],
      "metadata": {
        "id": "E16fogPbk6YF",
        "outputId": "fec808ee-4832-4849-8dac-17be59927ffe",
        "colab": {
          "base_uri": "https://localhost:8080/"
        }
      },
      "execution_count": 7,
      "outputs": [
        {
          "output_type": "stream",
          "name": "stderr",
          "text": [
            "/usr/local/lib/python3.7/dist-packages/librosa/filters.py:239: UserWarning: Empty filters detected in mel frequency basis. Some channels will produce empty responses. Try increasing your sampling rate (and fmax) or reducing n_mels.\n",
            "  \"Empty filters detected in mel frequency basis. \"\n"
          ]
        },
        {
          "output_type": "stream",
          "name": "stdout",
          "text": [
            "\n",
            "dimensions of our features array: (11318, 128, 65)\n"
          ]
        }
      ]
    },
    {
      "cell_type": "markdown",
      "source": [
        "We populate each ith element of features with a\n",
        "mel spectrogram of each file.\n",
        "\n",
        "*Warning: this is extremly slow and takes around 15 minutes*\n",
        "\n",
        "\n",
        "Maybe take a coffee break in the meanwhile"
      ],
      "metadata": {
        "id": "MlMB8iOqTNxr"
      }
    },
    {
      "cell_type": "code",
      "source": [
        "\n",
        "i = 0\n",
        "for file in files:\n",
        "  features[i] = extract_mel(*librosa.load(file,duration=1.5))\n",
        "  i = i+1\n",
        "  if i%1000==0:\n",
        "    print(\"sample: \", i)\n",
        "  \n"
      ],
      "metadata": {
        "id": "VGYICR7JzCZX",
        "outputId": "8ad597a1-c70f-4855-89b0-b6b7e5284165",
        "colab": {
          "base_uri": "https://localhost:8080/"
        }
      },
      "execution_count": 8,
      "outputs": [
        {
          "output_type": "stream",
          "name": "stderr",
          "text": [
            "/usr/local/lib/python3.7/dist-packages/librosa/filters.py:239: UserWarning: Empty filters detected in mel frequency basis. Some channels will produce empty responses. Try increasing your sampling rate (and fmax) or reducing n_mels.\n",
            "  \"Empty filters detected in mel frequency basis. \"\n"
          ]
        },
        {
          "output_type": "stream",
          "name": "stdout",
          "text": [
            "sample:  1000\n",
            "sample:  2000\n",
            "sample:  3000\n",
            "sample:  4000\n",
            "sample:  5000\n",
            "sample:  6000\n",
            "sample:  7000\n",
            "sample:  8000\n",
            "sample:  9000\n",
            "sample:  10000\n",
            "sample:  11000\n"
          ]
        }
      ]
    },
    {
      "cell_type": "markdown",
      "source": [
        "Now we have features array of dim `(11318, 128, 65)`\n",
        "where each `features[i]` corresponds to the mel spectrogram of the file: `files[i]`"
      ],
      "metadata": {
        "id": "k_WSNQlxTyc8"
      }
    },
    {
      "cell_type": "code",
      "source": [
        "\n",
        "plot_mel(features[15])\n",
        "print(files[15])"
      ],
      "metadata": {
        "id": "2jSiZmAFxvWl",
        "outputId": "84ce1c12-ba3c-415a-b1a4-2009c0bf2db5",
        "colab": {
          "base_uri": "https://localhost:8080/",
          "height": 469
        }
      },
      "execution_count": 13,
      "outputs": [
        {
          "output_type": "display_data",
          "data": {
            "text/plain": [
              "<Figure size 1440x504 with 2 Axes>"
            ],
            "image/png": "[encoded data removed]"
          },
          "metadata": {
            "needs_background": "light"
          }
        },
        {
          "output_type": "stream",
          "name": "stdout",
          "text": [
            "orchestral_samples/data/bassoon_G3_phrase_mezzo-forte_tongued-slur.wav\n"
          ]
        }
      ]
    },
    {
      "cell_type": "markdown",
      "source": [
        "We can save the `features` np array so we don't have to worry about computing it again. Warning: I have not beem able to upload this to github and download to google colab successfully. It may work on your local computer, but I ran into a bunc of issues, so you should problably not worry about this "
      ],
      "metadata": {
        "id": "a5dFUmP8UNE4"
      }
    },
    {
      "cell_type": "code",
      "source": [
        "np.save('x_data',features)"
      ],
      "metadata": {
        "id": "WFJVpkfeJXpb"
      },
      "execution_count": null,
      "outputs": []
    },
    {
      "cell_type": "markdown",
      "source": [
        "## **Getting the Y values, and labels**\n"
      ],
      "metadata": {
        "id": "QzATm9xZUxmS"
      }
    },
    {
      "cell_type": "code",
      "source": [
        "#@title helper functions\n",
        "def get_instruments():\n",
        "  instruments = {\n",
        "  \"bass-clarinet\": 0,\n",
        "  \"contrabassoon\": 1,\n",
        "  \"cello\": 2,\n",
        "  \"clarinet\": 3,\n",
        "  \"bassoon\": 4,\n",
        "  \"double-bass\": 5,\n",
        "  \"french-horn\": 6,\n",
        "  \"guitar\": 7,\n",
        "  \"mandolin\": 8,\n",
        "  \"oboe\": 9,\n",
        "  \"saxophone\": 10,\n",
        "  \"trombone\": 11,\n",
        "  \"trumpet\": 12,\n",
        "  \"tuba\": 13,\n",
        "  \"viola\": 14,\n",
        "  \"violin\": 15,\n",
        "  \n",
        "   #instruments is a python dictionary\n",
        "  #read more at https://www.w3schools.com/python/python_dictionaries.asp\n",
        "  #similiar to a hashmap, or c++'s ordered_map\n",
        "}\n",
        "  return instruments\n",
        "\n",
        "\n",
        "\"\"\"\n",
        "This function will return the instrument class value given the filename ie\n",
        "get_y_val('cello_Gs2_05_pianissimo_arco-normal.wav')\n",
        "  returns 2\n",
        "\n",
        "And get_y_val(double-bass_D2_1_pianissimo_arco-normal.wav)\n",
        "returns 5\n",
        "\n",
        "\"\"\"\n",
        "def get_y_value(file):\n",
        "  instruments = get_instruments()\n",
        "  for instrument in instruments:\n",
        "    #string.find(foo) returns the first occurence of foo,\n",
        "    # and -1 if foo is not in the string.\n",
        "    if file.find(instrument)!=-1:\n",
        "      return instruments[instrument]\n",
        "  return \"NULL\"\n",
        "\n",
        "def get_y_values():\n",
        "  #loading the names of the files in /data to a list\n",
        "  files = os.listdir('orchestral_samples/data')\n",
        "  \"\"\"\n",
        "  map(f,iterable) will apply functiion f to each element in iterable container.\n",
        "  In this case we are applying the function get_y_value, \n",
        "  to every element in files. List will turn a map object into a list,\n",
        "   and then we can turn the list into a numpy array\n",
        "  \"\"\"\n",
        "  return np.array(\n",
        "      list(\n",
        "          map(get_y_value,files)\n",
        "          )\n",
        "      )\n",
        "  \n",
        "\"\"\"\n",
        " generates numpy array that maps indices to instruments\n",
        " ie get_labels()[3] returns 'clarinet'\n",
        "\"\"\"\n",
        "def get_labels():\n",
        "  inv_map = {v: k for k, v in get_instruments().items()}\n",
        "  return np.array(list(inv_map.items()))[:,[1]]\n"
      ],
      "metadata": {
        "id": "T_PbCIOO_NWX",
        "cellView": "form"
      },
      "execution_count": 14,
      "outputs": []
    },
    {
      "cell_type": "markdown",
      "source": [
        "Making sure that we have to same amount of y values as inputs, and making sure that the classes are correct, and that there are no null entries"
      ],
      "metadata": {
        "id": "wczoHyRSZCta"
      }
    },
    {
      "cell_type": "code",
      "source": [
        "\n",
        "files = os.listdir('orchestral_samples/data')\n",
        "y_data = get_y_values()\n",
        "labels = get_labels()\n",
        "print(\n",
        "    f\"\"\"\n",
        "    y_test length: {y_data.size}\n",
        "    number of files: {len(files)}\n",
        "    \"\"\"\n",
        ")\n",
        "for i in range(1,10):\n",
        "  print(f\"\"\"\n",
        "    y_value : {labels[y_data[i]]}\n",
        "    filename : {files[i]}\n",
        "    \"\"\")\n",
        "print(np.unique(y_data))\n",
        "labels = labels[:,0]"
      ],
      "metadata": {
        "id": "pHbpcMUELIci",
        "outputId": "fb13ef97-6a42-4539-d2e6-d0046e25a574",
        "colab": {
          "base_uri": "https://localhost:8080/"
        }
      },
      "execution_count": 18,
      "outputs": [
        {
          "output_type": "stream",
          "name": "stdout",
          "text": [
            "\n",
            "    y_test length: 11318\n",
            "    number of files: 11318\n",
            "    \n",
            "\n",
            "    y_value : ['clarinet']\n",
            "    filename : clarinet_D4_025_piano_normal.wav\n",
            "    \n",
            "\n",
            "    y_value : ['cello']\n",
            "    filename : cello_F2_phrase_mezzo-forte_arco-legato.wav\n",
            "    \n",
            "\n",
            "    y_value : ['oboe']\n",
            "    filename : oboe_B5_05_piano_normal.wav\n",
            "    \n",
            "\n",
            "    y_value : ['bassoon']\n",
            "    filename : bassoon_D2_05_piano_normal.wav\n",
            "    \n",
            "\n",
            "    y_value : ['double-bass']\n",
            "    filename : double-bass_Ds2_05_mezzo-forte_arco-normal.wav\n",
            "    \n",
            "\n",
            "    y_value : ['contrabassoon']\n",
            "    filename : contrabassoon_F1_1_piano_normal.wav\n",
            "    \n",
            "\n",
            "    y_value : ['trombone']\n",
            "    filename : trombone_C5_15_pianissimo_normal.wav\n",
            "    \n",
            "\n",
            "    y_value : ['cello']\n",
            "    filename : cello_As4_15_mezzo-piano_arco-normal.wav\n",
            "    \n",
            "\n",
            "    y_value : ['bass-clarinet']\n",
            "    filename : bass-clarinet_Fs3_05_forte_normal.wav\n",
            "    \n",
            "[ 0  1  2  3  4  5  6  7  8  9 10 11 12 13 14 15]\n"
          ]
        }
      ]
    },
    {
      "cell_type": "markdown",
      "source": [
        "# **Test Train Split etc:** \n",
        "\n",
        "*finally we will have data in a format that can be fed into models*\n",
        "\n",
        "Importing stuff:"
      ],
      "metadata": {
        "id": "iQn4neOWvNmd"
      }
    },
    {
      "cell_type": "code",
      "source": [
        "from sklearn.model_selection import train_test_split\n",
        "from tensorflow import keras\n",
        "from tensorflow.keras.utils import to_categorical # it's red but okay"
      ],
      "metadata": {
        "id": "xJVlqdZMsFoH"
      },
      "execution_count": 24,
      "outputs": []
    },
    {
      "cell_type": "markdown",
      "source": [
        "##Performing test/train split:"
      ],
      "metadata": {
        "id": "lr9JfOdHx35m"
      }
    },
    {
      "cell_type": "code",
      "source": [
        "X_train, X_test, y_train, y_test = train_test_split(\n",
        "    features, y_data, test_size=0.33, random_state=42)"
      ],
      "metadata": {
        "id": "8QfT_i66vkQv"
      },
      "execution_count": 22,
      "outputs": []
    },
    {
      "cell_type": "markdown",
      "source": [
        "X train and test are the spectrograms\n",
        "\n",
        "Y train and test are the what instruments the samples are"
      ],
      "metadata": {
        "id": "Co4uWAwDw3u_"
      }
    },
    {
      "cell_type": "code",
      "source": [
        "print(f\"\"\"\n",
        "X_train dims: {X_train.shape}\n",
        "X_test dims: {X_test.shape}\n",
        "Y_train dims: {y_train.shape}\n",
        "Y_test dims: {y_test.shape}\n",
        "\"\"\"\n",
        ")"
      ],
      "metadata": {
        "id": "BJeNwgzAwDoY",
        "outputId": "40a1b559-27f5-4ce2-88c9-1c12c207ce4b",
        "colab": {
          "base_uri": "https://localhost:8080/"
        }
      },
      "execution_count": 29,
      "outputs": [
        {
          "output_type": "stream",
          "name": "stdout",
          "text": [
            "\n",
            "X_train dims: (7583, 128, 65)\n",
            "X_test dims: (3735, 128, 65)\n",
            "Y_train dims: (7583,)\n",
            "Y_test dims: (3735,)\n",
            "\n"
          ]
        }
      ]
    },
    {
      "cell_type": "code",
      "source": [
        "y_train_cat = keras.utils.to_categorical(y_train)\n",
        "y_test_cat = keras.utils.to_categorical(y_test)"
      ],
      "metadata": {
        "id": "PrPq-ePNvzz6"
      },
      "execution_count": 30,
      "outputs": []
    },
    {
      "cell_type": "markdown",
      "source": [
        "What is y_train_cat ?? :"
      ],
      "metadata": {
        "id": "pDM4mf1ZxNIZ"
      }
    },
    {
      "cell_type": "code",
      "source": [
        "print(y_train[0])\n",
        "print(y_train_cat[0])"
      ],
      "metadata": {
        "id": "kcyTCnEMxZps",
        "outputId": "2612ac92-1b82-406d-c799-3d76e610af1f",
        "colab": {
          "base_uri": "https://localhost:8080/"
        }
      },
      "execution_count": 38,
      "outputs": [
        {
          "output_type": "stream",
          "name": "stdout",
          "text": [
            "4\n",
            "[0. 0. 0. 0. 1. 0. 0. 0. 0. 0. 0. 0. 0. 0. 0. 0.]\n"
          ]
        }
      ]
    },
    {
      "cell_type": "markdown",
      "source": [
        "If you want to know what instrument a sample is by y_value:"
      ],
      "metadata": {
        "id": "0J2O_Y55xygR"
      }
    },
    {
      "cell_type": "code",
      "source": [
        "print(y_train_cat.shape)\n",
        "print(labels[np.argmax(y_train_cat)])\n",
        "print(y_train.shape)\n",
        "print(labels[y_train[0]])"
      ],
      "metadata": {
        "id": "AN6So56Vwmom",
        "outputId": "c5a9ea07-959a-4f2b-e77d-4682caa5daac",
        "colab": {
          "base_uri": "https://localhost:8080/"
        }
      },
      "execution_count": 41,
      "outputs": [
        {
          "output_type": "stream",
          "name": "stdout",
          "text": [
            "(7583, 16)\n",
            "bassoon\n",
            "(7583,)\n",
            "bassoon\n"
          ]
        }
      ]
    },
    {
      "cell_type": "markdown",
      "source": [
        "## Normalizing values to be between 0 and 1:"
      ],
      "metadata": {
        "id": "hdUvsym9yn4S"
      }
    },
    {
      "cell_type": "code",
      "source": [
        "max_ = max(np.max(X_test),np.max(X_train))\n",
        "print(max_)"
      ],
      "metadata": {
        "id": "b5uYQ-sVyqnd",
        "outputId": "47e4580e-17f1-4feb-c673-7b9458d84077",
        "colab": {
          "base_uri": "https://localhost:8080/"
        }
      },
      "execution_count": 42,
      "outputs": [
        {
          "output_type": "stream",
          "name": "stdout",
          "text": [
            "61.81525802612305\n"
          ]
        }
      ]
    },
    {
      "cell_type": "code",
      "source": [
        "max_ = max(np.max(X_test),np.max(X_train))\n",
        "X_test = X_test/max_\n",
        "X_train = X_train/max_"
      ],
      "metadata": {
        "id": "CAbxteOOyxPW"
      },
      "execution_count": 43,
      "outputs": []
    },
    {
      "cell_type": "code",
      "source": [
        "plt.imshow(X_train[100])"
      ],
      "metadata": {
        "id": "7D5xb1_Zy91J",
        "outputId": "3c7d9e52-2495-42ee-d627-44cab14047ef",
        "colab": {
          "base_uri": "https://localhost:8080/",
          "height": 286
        }
      },
      "execution_count": 48,
      "outputs": [
        {
          "output_type": "execute_result",
          "data": {
            "text/plain": [
              "<matplotlib.image.AxesImage at 0x7fce10866850>"
            ]
          },
          "metadata": {},
          "execution_count": 48
        },
        {
          "output_type": "display_data",
          "data": {
            "text/plain": [
              "<Figure size 432x288 with 1 Axes>"
            ],
            "image/png": "[encoded data removed]"
          },
          "metadata": {
            "needs_background": "light"
          }
        }
      ]
    },
    {
      "cell_type": "markdown",
      "source": [
        "# okay great, now we can make like a model\n",
        "*todo: replace this bad model with a not-bad model*"
      ],
      "metadata": {
        "id": "w5mTQr2VzW6E"
      }
    },
    {
      "cell_type": "code",
      "source": [
        "model = keras.models.Sequential()\n",
        "\n",
        "model.add(keras.Input(shape=(128,65)))\n",
        "\n",
        "model.add(keras.layers.Flatten())\n",
        "\n",
        "model.add(keras.layers.Dense(128, activation = 'relu', use_bias=False))\n",
        "model.add(keras.layers.Dense(512, activation = 'relu', use_bias=False)) \n",
        "#model.add(keras.layers.Dense(\"who do we appreciate\", activation = 'relu', use_bias=False))\n",
        "model.add(keras.layers.Dense(16, activation='softmax', use_bias=False)) "
      ],
      "metadata": {
        "id": "l1YB_lalzqtW"
      },
      "execution_count": 81,
      "outputs": []
    },
    {
      "cell_type": "code",
      "source": [
        "model.compile(loss = 'categorical_crossentropy', optimizer = 'adam', metrics=['accuracy'])"
      ],
      "metadata": {
        "id": "NFbvAmrM0KVK"
      },
      "execution_count": 82,
      "outputs": []
    },
    {
      "cell_type": "code",
      "source": [
        "model.summary()"
      ],
      "metadata": {
        "id": "a0E8Aq9K0PCH",
        "outputId": "aa713d2d-87b8-432f-b6dd-b092169797a1",
        "colab": {
          "base_uri": "https://localhost:8080/"
        }
      },
      "execution_count": 83,
      "outputs": [
        {
          "output_type": "stream",
          "name": "stdout",
          "text": [
            "Model: \"sequential_6\"\n",
            "_________________________________________________________________\n",
            " Layer (type)                Output Shape              Param #   \n",
            "=================================================================\n",
            " flatten_6 (Flatten)         (None, 8320)              0         \n",
            "                                                                 \n",
            " dense_23 (Dense)            (None, 128)               1064960   \n",
            "                                                                 \n",
            " dense_24 (Dense)            (None, 512)               65536     \n",
            "                                                                 \n",
            " dense_25 (Dense)            (None, 16)                8192      \n",
            "                                                                 \n",
            "=================================================================\n",
            "Total params: 1,138,688\n",
            "Trainable params: 1,138,688\n",
            "Non-trainable params: 0\n",
            "_________________________________________________________________\n"
          ]
        }
      ]
    },
    {
      "cell_type": "code",
      "source": [
        "h = model.fit(X_train, y_train_cat, \n",
        "          batch_size =250, epochs = 5,\n",
        "          validation_data = (X_test, y_test_cat)          \n",
        "          )"
      ],
      "metadata": {
        "id": "trFwVOHr0TUm",
        "outputId": "ed8d7e8f-4851-4bbd-cde3-f62d3d135c7a",
        "colab": {
          "base_uri": "https://localhost:8080/"
        }
      },
      "execution_count": 84,
      "outputs": [
        {
          "output_type": "stream",
          "name": "stdout",
          "text": [
            "Epoch 1/5\n",
            "31/31 [==============================] - 2s 62ms/step - loss: 2.6640 - accuracy: 0.1263 - val_loss: 2.4849 - val_accuracy: 0.1483\n",
            "Epoch 2/5\n",
            "31/31 [==============================] - 1s 43ms/step - loss: 2.3981 - accuracy: 0.1888 - val_loss: 2.2962 - val_accuracy: 0.2203\n",
            "Epoch 3/5\n",
            "31/31 [==============================] - 1s 42ms/step - loss: 2.2431 - accuracy: 0.2498 - val_loss: 2.1717 - val_accuracy: 0.3052\n",
            "Epoch 4/5\n",
            "31/31 [==============================] - 1s 42ms/step - loss: 2.1252 - accuracy: 0.2988 - val_loss: 2.0850 - val_accuracy: 0.3108\n",
            "Epoch 5/5\n",
            "31/31 [==============================] - 1s 41ms/step - loss: 2.0344 - accuracy: 0.3389 - val_loss: 2.0157 - val_accuracy: 0.3341\n"
          ]
        }
      ]
    },
    {
      "cell_type": "code",
      "source": [
        "plt.plot(h.history['loss'], label = 'loss')\n",
        "plt.plot(h.history['val_loss'], label = 'val_loss')\n",
        "plt.legend()"
      ],
      "metadata": {
        "id": "GrE8Yvh00cPu",
        "outputId": "f2b0464d-d17b-4f08-a5f0-eb45d3e0ef7e",
        "colab": {
          "base_uri": "https://localhost:8080/",
          "height": 283
        }
      },
      "execution_count": 85,
      "outputs": [
        {
          "output_type": "execute_result",
          "data": {
            "text/plain": [
              "<matplotlib.legend.Legend at 0x7fce083fa410>"
            ]
          },
          "metadata": {},
          "execution_count": 85
        },
        {
          "output_type": "display_data",
          "data": {
            "text/plain": [
              "<Figure size 432x288 with 1 Axes>"
            ],
            "image/png": "[encoded data removed]"
          },
          "metadata": {
            "needs_background": "light"
          }
        }
      ]
    },
    {
      "cell_type": "code",
      "source": [
        "plt.plot(h.history['accuracy'], label = 'acc')\n",
        "plt.plot(h.history['val_accuracy'], label = 'val_acc')\n",
        "plt.legend()"
      ],
      "metadata": {
        "id": "BdqboJ6p0eve",
        "outputId": "62cb8efa-70ba-4ee0-c4f7-45624b02a0b1",
        "colab": {
          "base_uri": "https://localhost:8080/",
          "height": 283
        }
      },
      "execution_count": 86,
      "outputs": [
        {
          "output_type": "execute_result",
          "data": {
            "text/plain": [
              "<matplotlib.legend.Legend at 0x7fce0c39de10>"
            ]
          },
          "metadata": {},
          "execution_count": 86
        },
        {
          "output_type": "display_data",
          "data": {
            "text/plain": [
              "<Figure size 432x288 with 1 Axes>"
            ],
            "image/png": "[encoded data removed]"
          },
          "metadata": {
            "needs_background": "light"
          }
        }
      ]
    }
  ]
}