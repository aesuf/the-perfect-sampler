{
 "cells": [
  {
   "cell_type": "markdown",
   "id": "3c3347b2",
   "metadata": {},
   "source": [
    "# RNN Training #\n",
    "## Jackson Cornell ##"
   ]
  },
  {
   "cell_type": "code",
   "execution_count": 2,
   "id": "3e38388c",
   "metadata": {},
   "outputs": [],
   "source": [
    "import numpy as np\n",
    "import tensorflow as tf\n",
    "import matplotlib.pyplot as plt\n",
    "from tensorflow.keras.layers import LSTM, Dense\n",
    "from sklearn.model_selection import train_test_split"
   ]
  },
  {
   "cell_type": "markdown",
   "id": "e0f740f3",
   "metadata": {},
   "source": [
    "### Load data ###"
   ]
  },
  {
   "cell_type": "code",
   "execution_count": null,
   "id": "b15c39b3",
   "metadata": {},
   "outputs": [],
   "source": [
    "# load data\n",
    "\n",
    "# split into training, validation, and test set\n",
    "x_train, x_test, t_train, t_test = train_test_split(images, labels, test_size=0.20)\n",
    "x_train, x_val, t_train, t_val = train_test_split(x_train, t_train, test_size=0.20)\n",
    "\n",
    "# print sizes\n",
    "print(\"Training data size:\", x_train.shape)\n",
    "print(\"Validation data size:\", x_val.shape)\n",
    "print(\"Testing data size:\", x_test.shape)\n",
    "\n",
    "# display data example"
   ]
  },
  {
   "cell_type": "markdown",
   "id": "a9362b85",
   "metadata": {},
   "source": [
    "### Train model ###"
   ]
  },
  {
   "cell_type": "code",
   "execution_count": null,
   "id": "0b8d5f98",
   "metadata": {},
   "outputs": [],
   "source": [
    "# define model shape\n",
    "input_shape=(128,1000)\n",
    "model = keras.Sequential()\n",
    "model.add(LSTM(128,input_shape=input_shape))\n",
    "#model.add(Dropout(0.2))\n",
    "#model.add(Dense(128, activation='relu'))\n",
    "#model.add(Dense(64, activation='relu'))\n",
    "#model.add(Dropout(0.4))\n",
    "#model.add(Dense(48, activation='relu'))\n",
    "#model.add(Dropout(0.4))\n",
    "model.add(Dense(24, activation='softmax'))\n",
    "model.summary()\n",
    "\n",
    "# compile model\n",
    "model.compile(optimizer='adam',loss='SparseCategoricalCrossentropy',metrics=['acc'])\n",
    "\n",
    "# train model\n",
    "history = model.fit(x_train, t_train, epochs=50, batch_size=72, validation_data=(x_val, t_val), shuffle=True)"
   ]
  },
  {
   "cell_type": "markdown",
   "id": "3f945956",
   "metadata": {},
   "source": [
    "### Validate model ###"
   ]
  },
  {
   "cell_type": "code",
   "execution_count": null,
   "id": "e45223b2",
   "metadata": {},
   "outputs": [],
   "source": [
    "# display results\n",
    "history_dict=history.history\n",
    "loss_values=history_dict['loss']\n",
    "acc_values=history_dict['acc']\n",
    "val_loss_values = history_dict['val_loss']\n",
    "val_acc_values=history_dict['val_acc']\n",
    "epochs=range(1,51)\n",
    "fig,(ax1,ax2)=plt.subplots(1,2,figsize=(15,5))\n",
    "ax1.plot(epochs,loss_values,'co',label='Training Loss')\n",
    "ax1.plot(epochs,val_loss_values,'m', label='Validation Loss')\n",
    "ax1.set_title('Training and validation loss')\n",
    "ax1.set_xlabel('Epochs')\n",
    "ax1.set_ylabel('Loss')\n",
    "ax1.legend()\n",
    "ax2.plot(epochs,acc_values,'co', label='Training accuracy')\n",
    "ax2.plot(epochs,val_acc_values,'m',label='Validation accuracy')\n",
    "ax2.set_title('Training and validation accuracy')\n",
    "ax2.set_xlabel('Epochs')\n",
    "ax2.set_ylabel('Accuracy')\n",
    "ax2.legend()\n",
    "plt.show()\n",
    "\n",
    "# display confusion matrix\n",
    "TrainLoss, Trainacc = model.evaluate(x_train, t_train)\n",
    "TestLoss, Testacc = model.evaluate(x_test, t_test)\n",
    "t_pred = model.predict(x_test)\n",
    "print('Confusion_matrix: ',tf.math.confusion_matrix(t_test, np.argmax(t_pred,axis=1)))"
   ]
  },
  {
   "cell_type": "markdown",
   "id": "9df9dad4",
   "metadata": {},
   "source": [
    "### Save model ###"
   ]
  },
  {
   "cell_type": "code",
   "execution_count": null,
   "id": "04fb279a",
   "metadata": {},
   "outputs": [],
   "source": [
    "# uncomment when we start getting good results\n",
    "#model.save('RNN_classifier')"
   ]
  }
 ],
 "metadata": {
  "kernelspec": {
   "display_name": "Python 3",
   "language": "python",
   "name": "python3"
  },
  "language_info": {
   "codemirror_mode": {
    "name": "ipython",
    "version": 3
   },
   "file_extension": ".py",
   "mimetype": "text/x-python",
   "name": "python",
   "nbconvert_exporter": "python",
   "pygments_lexer": "ipython3",
   "version": "3.8.8"
  }
 },
 "nbformat": 4,
 "nbformat_minor": 5
}
